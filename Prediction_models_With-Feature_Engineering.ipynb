{
 "cells": [
  {
   "cell_type": "code",
   "execution_count": 2,
   "metadata": {},
   "outputs": [],
   "source": [
    "import numpy as np\n",
    "import pandas as pd\n",
    "from sklearn.model_selection import train_test_split\n",
    "from sklearn.linear_model import LinearRegression\n",
    "from sklearn.metrics import mean_absolute_error, mean_squared_error\n",
    "from sklearn.preprocessing import StandardScaler\n",
    "\n"
   ]
  },
  {
   "cell_type": "code",
   "execution_count": 3,
   "metadata": {},
   "outputs": [],
   "source": [
    "f = pd.read_csv(\"data_engineered.csv\")\n",
    "df = pd.DataFrame(f)"
   ]
  },
  {
   "cell_type": "code",
   "execution_count": 4,
   "metadata": {},
   "outputs": [
    {
     "name": "stdout",
     "output_type": "stream",
     "text": [
      "<class 'pandas.core.frame.DataFrame'>\n",
      "RangeIndex: 2617 entries, 0 to 2616\n",
      "Data columns (total 30 columns):\n",
      " #   Column           Non-Null Count  Dtype  \n",
      "---  ------           --------------  -----  \n",
      " 0   SalePrice        2617 non-null   float64\n",
      " 1   LnSalePrice      2617 non-null   float64\n",
      " 2   Age              2617 non-null   float64\n",
      " 3   GrLivArea        2617 non-null   float64\n",
      " 4   BaseLivArea      2617 non-null   float64\n",
      " 5   Location         2617 non-null   int64  \n",
      " 6   Amenities        2617 non-null   int64  \n",
      " 7   RoadRail         2617 non-null   int64  \n",
      " 8   BedroomAbvGr     2617 non-null   float64\n",
      " 9   Bathrooms        2617 non-null   float64\n",
      " 10  OverallCond      2617 non-null   float64\n",
      " 11  OverallQual      2617 non-null   float64\n",
      " 12  LotFrontage      2617 non-null   float64\n",
      " 13  LotArea          2617 non-null   float64\n",
      " 14  TwoStory_dum     2617 non-null   int64  \n",
      " 15  FlatContour_dum  2617 non-null   int64  \n",
      " 16  FlatRoof_dum     2617 non-null   int64  \n",
      " 17  GarageArea       2616 non-null   float64\n",
      " 18  Garage_dum       2617 non-null   int64  \n",
      " 19  CentralAirNum    2617 non-null   int64  \n",
      " 20  LowQualFinSF     2617 non-null   float64\n",
      " 21  Fireplaces       2617 non-null   float64\n",
      " 22  KitchenQual_Ex   2617 non-null   bool   \n",
      " 23  Zoning_2         2617 non-null   bool   \n",
      " 24  Zoning_3         2617 non-null   bool   \n",
      " 25  Zoning_4         2617 non-null   bool   \n",
      " 26  YrSold_2007      2617 non-null   bool   \n",
      " 27  YrSold_2008      2617 non-null   bool   \n",
      " 28  YrSold_2009      2617 non-null   bool   \n",
      " 29  YrSold_2010      2617 non-null   bool   \n",
      "dtypes: bool(8), float64(14), int64(8)\n",
      "memory usage: 470.4 KB\n"
     ]
    }
   ],
   "source": [
    "df.info()"
   ]
  },
  {
   "cell_type": "code",
   "execution_count": 5,
   "metadata": {},
   "outputs": [
    {
     "name": "stdout",
     "output_type": "stream",
     "text": [
      "      SalePrice  LnSalePrice   Age  GrLivArea  BaseLivArea  Location  \\\n",
      "0      215000.0    12.278393  50.0     1656.0        639.0         2   \n",
      "1      105000.0    11.561716  49.0      896.0        612.0         2   \n",
      "2      172000.0    12.055250  52.0     1329.0        923.0         2   \n",
      "3      244000.0    12.404924  42.0     2110.0       1065.0         2   \n",
      "4      189900.0    12.154253  13.0     1629.0        791.0         2   \n",
      "...         ...          ...   ...        ...          ...       ...   \n",
      "2612   142500.0    11.867097  22.0     1003.0        819.0         2   \n",
      "2613   131000.0    11.782953  23.0      902.0        625.0         2   \n",
      "2614   132000.0    11.790557  14.0      970.0        337.0         2   \n",
      "2615   170000.0    12.043554  32.0     1389.0       1194.0         2   \n",
      "2616   188000.0    12.144197  13.0     2000.0        758.0         2   \n",
      "\n",
      "      Amenities  RoadRail  BedroomAbvGr  Bathrooms  ...  LowQualFinSF  \\\n",
      "0             0         0           3.0        1.0  ...           0.0   \n",
      "1             0         0           2.0        1.0  ...           0.0   \n",
      "2             0         0           3.0        1.5  ...           0.0   \n",
      "3             0         0           3.0        2.5  ...           0.0   \n",
      "4             0         0           3.0        2.5  ...           0.0   \n",
      "...         ...       ...           ...        ...  ...           ...   \n",
      "2612          0         0           3.0        1.0  ...           0.0   \n",
      "2613          0         0           2.0        1.0  ...           0.0   \n",
      "2614          0         0           3.0        1.0  ...           0.0   \n",
      "2615          0         0           2.0        1.0  ...           0.0   \n",
      "2616          0         0           3.0        2.5  ...           0.0   \n",
      "\n",
      "      Fireplaces  KitchenQual_Ex  Zoning_2  Zoning_3  Zoning_4  YrSold_2007  \\\n",
      "0            2.0           False     False      True     False        False   \n",
      "1            0.0           False      True     False     False        False   \n",
      "2            0.0           False     False      True     False        False   \n",
      "3            2.0            True     False      True     False        False   \n",
      "4            1.0           False     False      True     False        False   \n",
      "...          ...             ...       ...       ...       ...          ...   \n",
      "2612         0.0           False     False      True     False        False   \n",
      "2613         0.0           False     False      True     False        False   \n",
      "2614         0.0           False     False      True     False        False   \n",
      "2615         1.0           False     False      True     False        False   \n",
      "2616         1.0           False     False      True     False        False   \n",
      "\n",
      "      YrSold_2008  YrSold_2009  YrSold_2010  \n",
      "0           False        False         True  \n",
      "1           False        False         True  \n",
      "2           False        False         True  \n",
      "3           False        False         True  \n",
      "4           False        False         True  \n",
      "...           ...          ...          ...  \n",
      "2612        False        False        False  \n",
      "2613        False        False        False  \n",
      "2614        False        False        False  \n",
      "2615        False        False        False  \n",
      "2616        False        False        False  \n",
      "\n",
      "[2616 rows x 30 columns]\n"
     ]
    }
   ],
   "source": [
    "# Deleting the single null value in 'GarageArea'\n",
    "df = df[~df['GarageArea'].isnull()]\n",
    "print(df)"
   ]
  },
  {
   "cell_type": "code",
   "execution_count": 6,
   "metadata": {},
   "outputs": [
    {
     "data": {
      "text/plain": [
       "False"
      ]
     },
     "execution_count": 6,
     "metadata": {},
     "output_type": "execute_result"
    }
   ],
   "source": [
    "df.isnull().values.any()"
   ]
  },
  {
   "cell_type": "code",
   "execution_count": 7,
   "metadata": {},
   "outputs": [],
   "source": [
    "df = df.drop(['Bathrooms'], axis=1)"
   ]
  },
  {
   "cell_type": "code",
   "execution_count": 8,
   "metadata": {},
   "outputs": [
    {
     "data": {
      "text/plain": [
       "(2307, 29)"
      ]
     },
     "execution_count": 8,
     "metadata": {},
     "output_type": "execute_result"
    }
   ],
   "source": [
    "df_0609 = df.loc[df['YrSold_2010'] != 1]\n",
    "df_0609.shape"
   ]
  },
  {
   "cell_type": "code",
   "execution_count": 9,
   "metadata": {},
   "outputs": [],
   "source": [
    "# Assigning 2010 data as the holdout test set\n",
    "df_2010 = df.loc[df['YrSold_2010'] == 1]"
   ]
  },
  {
   "cell_type": "code",
   "execution_count": 10,
   "metadata": {},
   "outputs": [],
   "source": [
    "y_SP = df_0609['SalePrice']\n",
    "y_lnSP = df_0609['LnSalePrice']"
   ]
  },
  {
   "cell_type": "code",
   "execution_count": 11,
   "metadata": {},
   "outputs": [],
   "source": [
    "X = df_0609.drop(['SalePrice', 'LnSalePrice'], axis=1)"
   ]
  },
  {
   "cell_type": "code",
   "execution_count": 12,
   "metadata": {},
   "outputs": [
    {
     "data": {
      "text/plain": [
       "(2307, 27)"
      ]
     },
     "execution_count": 12,
     "metadata": {},
     "output_type": "execute_result"
    }
   ],
   "source": [
    "X.shape"
   ]
  },
  {
   "cell_type": "code",
   "execution_count": 13,
   "metadata": {},
   "outputs": [],
   "source": [
    "X_train, X_test, y_train, y_test = train_test_split(X, y_lnSP, test_size=0.3, random_state=8)"
   ]
  },
  {
   "cell_type": "code",
   "execution_count": 14,
   "metadata": {},
   "outputs": [],
   "source": [
    "scaler = StandardScaler()\n",
    "X_train = scaler.fit_transform(X_train)\n",
    "X_test = scaler.transform(X_test)\n"
   ]
  },
  {
   "cell_type": "code",
   "execution_count": 15,
   "metadata": {},
   "outputs": [
    {
     "data": {
      "text/html": [
       "<style>#sk-container-id-1 {color: black;}#sk-container-id-1 pre{padding: 0;}#sk-container-id-1 div.sk-toggleable {background-color: white;}#sk-container-id-1 label.sk-toggleable__label {cursor: pointer;display: block;width: 100%;margin-bottom: 0;padding: 0.3em;box-sizing: border-box;text-align: center;}#sk-container-id-1 label.sk-toggleable__label-arrow:before {content: \"▸\";float: left;margin-right: 0.25em;color: #696969;}#sk-container-id-1 label.sk-toggleable__label-arrow:hover:before {color: black;}#sk-container-id-1 div.sk-estimator:hover label.sk-toggleable__label-arrow:before {color: black;}#sk-container-id-1 div.sk-toggleable__content {max-height: 0;max-width: 0;overflow: hidden;text-align: left;background-color: #f0f8ff;}#sk-container-id-1 div.sk-toggleable__content pre {margin: 0.2em;color: black;border-radius: 0.25em;background-color: #f0f8ff;}#sk-container-id-1 input.sk-toggleable__control:checked~div.sk-toggleable__content {max-height: 200px;max-width: 100%;overflow: auto;}#sk-container-id-1 input.sk-toggleable__control:checked~label.sk-toggleable__label-arrow:before {content: \"▾\";}#sk-container-id-1 div.sk-estimator input.sk-toggleable__control:checked~label.sk-toggleable__label {background-color: #d4ebff;}#sk-container-id-1 div.sk-label input.sk-toggleable__control:checked~label.sk-toggleable__label {background-color: #d4ebff;}#sk-container-id-1 input.sk-hidden--visually {border: 0;clip: rect(1px 1px 1px 1px);clip: rect(1px, 1px, 1px, 1px);height: 1px;margin: -1px;overflow: hidden;padding: 0;position: absolute;width: 1px;}#sk-container-id-1 div.sk-estimator {font-family: monospace;background-color: #f0f8ff;border: 1px dotted black;border-radius: 0.25em;box-sizing: border-box;margin-bottom: 0.5em;}#sk-container-id-1 div.sk-estimator:hover {background-color: #d4ebff;}#sk-container-id-1 div.sk-parallel-item::after {content: \"\";width: 100%;border-bottom: 1px solid gray;flex-grow: 1;}#sk-container-id-1 div.sk-label:hover label.sk-toggleable__label {background-color: #d4ebff;}#sk-container-id-1 div.sk-serial::before {content: \"\";position: absolute;border-left: 1px solid gray;box-sizing: border-box;top: 0;bottom: 0;left: 50%;z-index: 0;}#sk-container-id-1 div.sk-serial {display: flex;flex-direction: column;align-items: center;background-color: white;padding-right: 0.2em;padding-left: 0.2em;position: relative;}#sk-container-id-1 div.sk-item {position: relative;z-index: 1;}#sk-container-id-1 div.sk-parallel {display: flex;align-items: stretch;justify-content: center;background-color: white;position: relative;}#sk-container-id-1 div.sk-item::before, #sk-container-id-1 div.sk-parallel-item::before {content: \"\";position: absolute;border-left: 1px solid gray;box-sizing: border-box;top: 0;bottom: 0;left: 50%;z-index: -1;}#sk-container-id-1 div.sk-parallel-item {display: flex;flex-direction: column;z-index: 1;position: relative;background-color: white;}#sk-container-id-1 div.sk-parallel-item:first-child::after {align-self: flex-end;width: 50%;}#sk-container-id-1 div.sk-parallel-item:last-child::after {align-self: flex-start;width: 50%;}#sk-container-id-1 div.sk-parallel-item:only-child::after {width: 0;}#sk-container-id-1 div.sk-dashed-wrapped {border: 1px dashed gray;margin: 0 0.4em 0.5em 0.4em;box-sizing: border-box;padding-bottom: 0.4em;background-color: white;}#sk-container-id-1 div.sk-label label {font-family: monospace;font-weight: bold;display: inline-block;line-height: 1.2em;}#sk-container-id-1 div.sk-label-container {text-align: center;}#sk-container-id-1 div.sk-container {/* jupyter's `normalize.less` sets `[hidden] { display: none; }` but bootstrap.min.css set `[hidden] { display: none !important; }` so we also need the `!important` here to be able to override the default hidden behavior on the sphinx rendered scikit-learn.org. See: https://github.com/scikit-learn/scikit-learn/issues/21755 */display: inline-block !important;position: relative;}#sk-container-id-1 div.sk-text-repr-fallback {display: none;}</style><div id=\"sk-container-id-1\" class=\"sk-top-container\"><div class=\"sk-text-repr-fallback\"><pre>LinearRegression()</pre><b>In a Jupyter environment, please rerun this cell to show the HTML representation or trust the notebook. <br />On GitHub, the HTML representation is unable to render, please try loading this page with nbviewer.org.</b></div><div class=\"sk-container\" hidden><div class=\"sk-item\"><div class=\"sk-estimator sk-toggleable\"><input class=\"sk-toggleable__control sk-hidden--visually\" id=\"sk-estimator-id-1\" type=\"checkbox\" checked><label for=\"sk-estimator-id-1\" class=\"sk-toggleable__label sk-toggleable__label-arrow\">LinearRegression</label><div class=\"sk-toggleable__content\"><pre>LinearRegression()</pre></div></div></div></div></div>"
      ],
      "text/plain": [
       "LinearRegression()"
      ]
     },
     "execution_count": 15,
     "metadata": {},
     "output_type": "execute_result"
    }
   ],
   "source": [
    "#Linear Regression model for sale price prediction\n",
    "linear_regression_model = LinearRegression()\n",
    "linear_regression_model.fit(X_train, y_train)"
   ]
  },
  {
   "cell_type": "code",
   "execution_count": 16,
   "metadata": {},
   "outputs": [],
   "source": [
    "# Predict on the test set\n",
    "\n",
    "y_pred = linear_regression_model.predict(X_test)\n"
   ]
  },
  {
   "cell_type": "code",
   "execution_count": 17,
   "metadata": {},
   "outputs": [],
   "source": [
    "# Evaluate the model\n",
    "mae = mean_absolute_error(y_test, y_pred)\n",
    "mse = mean_squared_error(y_test, y_pred)\n",
    "rmse = np.sqrt(mse)"
   ]
  },
  {
   "cell_type": "code",
   "execution_count": 18,
   "metadata": {},
   "outputs": [
    {
     "name": "stdout",
     "output_type": "stream",
     "text": [
      "Mean Absolute Error (MAE): 0.07703466855469435\n",
      "Mean Squared Error (MSE): 0.011182778443829379\n",
      "Root Mean Squared Error (RMSE): 0.10574865693629106\n"
     ]
    }
   ],
   "source": [
    "print(\"Mean Absolute Error (MAE):\", mae)\n",
    "print(\"Mean Squared Error (MSE):\", mse)\n",
    "print(\"Root Mean Squared Error (RMSE):\", rmse)"
   ]
  },
  {
   "cell_type": "code",
   "execution_count": 19,
   "metadata": {},
   "outputs": [
    {
     "name": "stdout",
     "output_type": "stream",
     "text": [
      "Test MAE: 0.08800245095837231\n",
      "Test MSE: 0.053181719618027\n",
      "Test RMSE: 0.23061162073500763\n"
     ]
    }
   ],
   "source": [
    "#Polynomial 2nd degree model for sale price prediction\n",
    "from sklearn.preprocessing import PolynomialFeatures\n",
    "from sklearn.linear_model import LinearRegression\n",
    "from sklearn.metrics import mean_absolute_error, mean_squared_error\n",
    "import numpy as np\n",
    "\n",
    "# Assuming you have already split your data into train_x, train_y, test_x, test_y\n",
    "train_x, test_x, train_y, test_y = train_test_split(X, y_lnSP, test_size=0.2, random_state=42)\n",
    "\n",
    "# Create polynomial features\n",
    "poly = PolynomialFeatures(degree=2)\n",
    "train_x_poly = poly.fit_transform(train_x)\n",
    "test_x_poly = poly.transform(test_x)\n",
    "\n",
    "# Train the polynomial regression model\n",
    "model = LinearRegression()\n",
    "model.fit(train_x_poly, train_y)\n",
    "\n",
    "# Make predictions\n",
    "train_y_pred = model.predict(train_x_poly)\n",
    "test_y_pred = model.predict(test_x_poly)\n",
    "\n",
    "# Calculate metrics\n",
    "train_mae = mean_absolute_error(train_y, train_y_pred)\n",
    "test_mae = mean_absolute_error(test_y, test_y_pred)\n",
    "\n",
    "train_mse = mean_squared_error(train_y, train_y_pred)\n",
    "test_mse = mean_squared_error(test_y, test_y_pred)\n",
    "\n",
    "train_rmse = np.sqrt(train_mse)\n",
    "test_rmse = np.sqrt(test_mse)\n",
    "\n",
    "# Print metrics\n",
    "\n",
    "print(\"Test MAE:\", test_mae)\n",
    "print(\"Test MSE:\", test_mse)\n",
    "print(\"Test RMSE:\", test_rmse)\n"
   ]
  },
  {
   "cell_type": "code",
   "execution_count": null,
   "metadata": {},
   "outputs": [],
   "source": []
  }
 ],
 "metadata": {
  "kernelspec": {
   "display_name": "Python 3 (ipykernel)",
   "language": "python",
   "name": "python3"
  },
  "language_info": {
   "codemirror_mode": {
    "name": "ipython",
    "version": 3
   },
   "file_extension": ".py",
   "mimetype": "text/x-python",
   "name": "python",
   "nbconvert_exporter": "python",
   "pygments_lexer": "ipython3",
   "version": "3.11.5"
  },
  "toc": {
   "base_numbering": 1,
   "nav_menu": {},
   "number_sections": false,
   "sideBar": true,
   "skip_h1_title": true,
   "title_cell": "Table of Contents",
   "title_sidebar": "Contents",
   "toc_cell": false,
   "toc_position": {},
   "toc_section_display": "block",
   "toc_window_display": false
  }
 },
 "nbformat": 4,
 "nbformat_minor": 4
}
